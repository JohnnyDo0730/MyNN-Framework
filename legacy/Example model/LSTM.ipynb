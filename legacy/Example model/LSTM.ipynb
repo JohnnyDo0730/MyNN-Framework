{
  "cells": [
    {
      "cell_type": "markdown",
      "metadata": {
        "id": "h0Pt22DaMqwN"
      },
      "source": [
        "# 以LSTM演算法預測股價"
      ]
    },
    {
      "cell_type": "markdown",
      "metadata": {
        "id": "Zsq3CtLBMqwP"
      },
      "source": [
        "## 載入相關套件"
      ]
    },
    {
      "cell_type": "code",
      "execution_count": 41,
      "metadata": {
        "id": "8vSF2qLgMqwQ"
      },
      "outputs": [],
      "source": [
        "import torch\n",
        "import torch.nn as nn\n",
        "import torch.nn.functional as F\n",
        "import torch.optim as optim\n",
        "import torchtext\n",
        "import numpy as np\n",
        "import pandas as pd\n",
        "import os\n",
        "import matplotlib.pyplot as plt"
      ]
    },
    {
      "cell_type": "markdown",
      "metadata": {
        "id": "khkwwhIlMqwQ"
      },
      "source": [
        "## 判斷GPU是否存在"
      ]
    },
    {
      "cell_type": "code",
      "execution_count": 42,
      "metadata": {
        "colab": {
          "base_uri": "https://localhost:8080/"
        },
        "id": "qix-hT13MqwR",
        "outputId": "42ab6097-a716-4aeb-f3bb-d2d91d55b981"
      },
      "outputs": [
        {
          "output_type": "stream",
          "name": "stdout",
          "text": [
            "cuda\n"
          ]
        }
      ],
      "source": [
        "# device = torch.device(\"cuda\" if torch.cuda.is_available() else \"cpu\")\n",
        "device = \"cuda\" if torch.cuda.is_available() else \"cpu\"\n",
        "print(device)"
      ]
    },
    {
      "cell_type": "markdown",
      "metadata": {
        "id": "QwERYi8nMqwR"
      },
      "source": [
        "## 載入資料"
      ]
    },
    {
      "cell_type": "code",
      "execution_count": 43,
      "metadata": {
        "scrolled": true,
        "colab": {
          "base_uri": "https://localhost:8080/",
          "height": 206
        },
        "id": "nozz4NbsMqwR",
        "outputId": "5809dba8-b123-4ace-dd04-23839567a308"
      },
      "outputs": [
        {
          "output_type": "execute_result",
          "data": {
            "text/plain": [
              "         Date   Open   High    Low  Close   Volume  Name\n",
              "0  2006-01-03  47.47  47.85  46.25  47.58  7582127  AMZN\n",
              "1  2006-01-04  47.48  47.73  46.69  47.25  7440914  AMZN\n",
              "2  2006-01-05  47.16  48.20  47.11  47.65  5417258  AMZN\n",
              "3  2006-01-06  47.97  48.58  47.32  47.87  6154285  AMZN\n",
              "4  2006-01-09  46.55  47.10  46.40  47.08  8945056  AMZN"
            ],
            "text/html": [
              "\n",
              "  <div id=\"df-331c8ff3-1cf5-4537-92a1-2d8807001b38\" class=\"colab-df-container\">\n",
              "    <div>\n",
              "<style scoped>\n",
              "    .dataframe tbody tr th:only-of-type {\n",
              "        vertical-align: middle;\n",
              "    }\n",
              "\n",
              "    .dataframe tbody tr th {\n",
              "        vertical-align: top;\n",
              "    }\n",
              "\n",
              "    .dataframe thead th {\n",
              "        text-align: right;\n",
              "    }\n",
              "</style>\n",
              "<table border=\"1\" class=\"dataframe\">\n",
              "  <thead>\n",
              "    <tr style=\"text-align: right;\">\n",
              "      <th></th>\n",
              "      <th>Date</th>\n",
              "      <th>Open</th>\n",
              "      <th>High</th>\n",
              "      <th>Low</th>\n",
              "      <th>Close</th>\n",
              "      <th>Volume</th>\n",
              "      <th>Name</th>\n",
              "    </tr>\n",
              "  </thead>\n",
              "  <tbody>\n",
              "    <tr>\n",
              "      <th>0</th>\n",
              "      <td>2006-01-03</td>\n",
              "      <td>47.47</td>\n",
              "      <td>47.85</td>\n",
              "      <td>46.25</td>\n",
              "      <td>47.58</td>\n",
              "      <td>7582127</td>\n",
              "      <td>AMZN</td>\n",
              "    </tr>\n",
              "    <tr>\n",
              "      <th>1</th>\n",
              "      <td>2006-01-04</td>\n",
              "      <td>47.48</td>\n",
              "      <td>47.73</td>\n",
              "      <td>46.69</td>\n",
              "      <td>47.25</td>\n",
              "      <td>7440914</td>\n",
              "      <td>AMZN</td>\n",
              "    </tr>\n",
              "    <tr>\n",
              "      <th>2</th>\n",
              "      <td>2006-01-05</td>\n",
              "      <td>47.16</td>\n",
              "      <td>48.20</td>\n",
              "      <td>47.11</td>\n",
              "      <td>47.65</td>\n",
              "      <td>5417258</td>\n",
              "      <td>AMZN</td>\n",
              "    </tr>\n",
              "    <tr>\n",
              "      <th>3</th>\n",
              "      <td>2006-01-06</td>\n",
              "      <td>47.97</td>\n",
              "      <td>48.58</td>\n",
              "      <td>47.32</td>\n",
              "      <td>47.87</td>\n",
              "      <td>6154285</td>\n",
              "      <td>AMZN</td>\n",
              "    </tr>\n",
              "    <tr>\n",
              "      <th>4</th>\n",
              "      <td>2006-01-09</td>\n",
              "      <td>46.55</td>\n",
              "      <td>47.10</td>\n",
              "      <td>46.40</td>\n",
              "      <td>47.08</td>\n",
              "      <td>8945056</td>\n",
              "      <td>AMZN</td>\n",
              "    </tr>\n",
              "  </tbody>\n",
              "</table>\n",
              "</div>\n",
              "    <div class=\"colab-df-buttons\">\n",
              "\n",
              "  <div class=\"colab-df-container\">\n",
              "    <button class=\"colab-df-convert\" onclick=\"convertToInteractive('df-331c8ff3-1cf5-4537-92a1-2d8807001b38')\"\n",
              "            title=\"Convert this dataframe to an interactive table.\"\n",
              "            style=\"display:none;\">\n",
              "\n",
              "  <svg xmlns=\"http://www.w3.org/2000/svg\" height=\"24px\" viewBox=\"0 -960 960 960\">\n",
              "    <path d=\"M120-120v-720h720v720H120Zm60-500h600v-160H180v160Zm220 220h160v-160H400v160Zm0 220h160v-160H400v160ZM180-400h160v-160H180v160Zm440 0h160v-160H620v160ZM180-180h160v-160H180v160Zm440 0h160v-160H620v160Z\"/>\n",
              "  </svg>\n",
              "    </button>\n",
              "\n",
              "  <style>\n",
              "    .colab-df-container {\n",
              "      display:flex;\n",
              "      gap: 12px;\n",
              "    }\n",
              "\n",
              "    .colab-df-convert {\n",
              "      background-color: #E8F0FE;\n",
              "      border: none;\n",
              "      border-radius: 50%;\n",
              "      cursor: pointer;\n",
              "      display: none;\n",
              "      fill: #1967D2;\n",
              "      height: 32px;\n",
              "      padding: 0 0 0 0;\n",
              "      width: 32px;\n",
              "    }\n",
              "\n",
              "    .colab-df-convert:hover {\n",
              "      background-color: #E2EBFA;\n",
              "      box-shadow: 0px 1px 2px rgba(60, 64, 67, 0.3), 0px 1px 3px 1px rgba(60, 64, 67, 0.15);\n",
              "      fill: #174EA6;\n",
              "    }\n",
              "\n",
              "    .colab-df-buttons div {\n",
              "      margin-bottom: 4px;\n",
              "    }\n",
              "\n",
              "    [theme=dark] .colab-df-convert {\n",
              "      background-color: #3B4455;\n",
              "      fill: #D2E3FC;\n",
              "    }\n",
              "\n",
              "    [theme=dark] .colab-df-convert:hover {\n",
              "      background-color: #434B5C;\n",
              "      box-shadow: 0px 1px 3px 1px rgba(0, 0, 0, 0.15);\n",
              "      filter: drop-shadow(0px 1px 2px rgba(0, 0, 0, 0.3));\n",
              "      fill: #FFFFFF;\n",
              "    }\n",
              "  </style>\n",
              "\n",
              "    <script>\n",
              "      const buttonEl =\n",
              "        document.querySelector('#df-331c8ff3-1cf5-4537-92a1-2d8807001b38 button.colab-df-convert');\n",
              "      buttonEl.style.display =\n",
              "        google.colab.kernel.accessAllowed ? 'block' : 'none';\n",
              "\n",
              "      async function convertToInteractive(key) {\n",
              "        const element = document.querySelector('#df-331c8ff3-1cf5-4537-92a1-2d8807001b38');\n",
              "        const dataTable =\n",
              "          await google.colab.kernel.invokeFunction('convertToInteractive',\n",
              "                                                    [key], {});\n",
              "        if (!dataTable) return;\n",
              "\n",
              "        const docLinkHtml = 'Like what you see? Visit the ' +\n",
              "          '<a target=\"_blank\" href=https://colab.research.google.com/notebooks/data_table.ipynb>data table notebook</a>'\n",
              "          + ' to learn more about interactive tables.';\n",
              "        element.innerHTML = '';\n",
              "        dataTable['output_type'] = 'display_data';\n",
              "        await google.colab.output.renderOutput(dataTable, element);\n",
              "        const docLink = document.createElement('div');\n",
              "        docLink.innerHTML = docLinkHtml;\n",
              "        element.appendChild(docLink);\n",
              "      }\n",
              "    </script>\n",
              "  </div>\n",
              "\n",
              "\n",
              "<div id=\"df-d873e569-40d4-455c-8eef-59fde87b0798\">\n",
              "  <button class=\"colab-df-quickchart\" onclick=\"quickchart('df-d873e569-40d4-455c-8eef-59fde87b0798')\"\n",
              "            title=\"Suggest charts\"\n",
              "            style=\"display:none;\">\n",
              "\n",
              "<svg xmlns=\"http://www.w3.org/2000/svg\" height=\"24px\"viewBox=\"0 0 24 24\"\n",
              "     width=\"24px\">\n",
              "    <g>\n",
              "        <path d=\"M19 3H5c-1.1 0-2 .9-2 2v14c0 1.1.9 2 2 2h14c1.1 0 2-.9 2-2V5c0-1.1-.9-2-2-2zM9 17H7v-7h2v7zm4 0h-2V7h2v10zm4 0h-2v-4h2v4z\"/>\n",
              "    </g>\n",
              "</svg>\n",
              "  </button>\n",
              "\n",
              "<style>\n",
              "  .colab-df-quickchart {\n",
              "      --bg-color: #E8F0FE;\n",
              "      --fill-color: #1967D2;\n",
              "      --hover-bg-color: #E2EBFA;\n",
              "      --hover-fill-color: #174EA6;\n",
              "      --disabled-fill-color: #AAA;\n",
              "      --disabled-bg-color: #DDD;\n",
              "  }\n",
              "\n",
              "  [theme=dark] .colab-df-quickchart {\n",
              "      --bg-color: #3B4455;\n",
              "      --fill-color: #D2E3FC;\n",
              "      --hover-bg-color: #434B5C;\n",
              "      --hover-fill-color: #FFFFFF;\n",
              "      --disabled-bg-color: #3B4455;\n",
              "      --disabled-fill-color: #666;\n",
              "  }\n",
              "\n",
              "  .colab-df-quickchart {\n",
              "    background-color: var(--bg-color);\n",
              "    border: none;\n",
              "    border-radius: 50%;\n",
              "    cursor: pointer;\n",
              "    display: none;\n",
              "    fill: var(--fill-color);\n",
              "    height: 32px;\n",
              "    padding: 0;\n",
              "    width: 32px;\n",
              "  }\n",
              "\n",
              "  .colab-df-quickchart:hover {\n",
              "    background-color: var(--hover-bg-color);\n",
              "    box-shadow: 0 1px 2px rgba(60, 64, 67, 0.3), 0 1px 3px 1px rgba(60, 64, 67, 0.15);\n",
              "    fill: var(--button-hover-fill-color);\n",
              "  }\n",
              "\n",
              "  .colab-df-quickchart-complete:disabled,\n",
              "  .colab-df-quickchart-complete:disabled:hover {\n",
              "    background-color: var(--disabled-bg-color);\n",
              "    fill: var(--disabled-fill-color);\n",
              "    box-shadow: none;\n",
              "  }\n",
              "\n",
              "  .colab-df-spinner {\n",
              "    border: 2px solid var(--fill-color);\n",
              "    border-color: transparent;\n",
              "    border-bottom-color: var(--fill-color);\n",
              "    animation:\n",
              "      spin 1s steps(1) infinite;\n",
              "  }\n",
              "\n",
              "  @keyframes spin {\n",
              "    0% {\n",
              "      border-color: transparent;\n",
              "      border-bottom-color: var(--fill-color);\n",
              "      border-left-color: var(--fill-color);\n",
              "    }\n",
              "    20% {\n",
              "      border-color: transparent;\n",
              "      border-left-color: var(--fill-color);\n",
              "      border-top-color: var(--fill-color);\n",
              "    }\n",
              "    30% {\n",
              "      border-color: transparent;\n",
              "      border-left-color: var(--fill-color);\n",
              "      border-top-color: var(--fill-color);\n",
              "      border-right-color: var(--fill-color);\n",
              "    }\n",
              "    40% {\n",
              "      border-color: transparent;\n",
              "      border-right-color: var(--fill-color);\n",
              "      border-top-color: var(--fill-color);\n",
              "    }\n",
              "    60% {\n",
              "      border-color: transparent;\n",
              "      border-right-color: var(--fill-color);\n",
              "    }\n",
              "    80% {\n",
              "      border-color: transparent;\n",
              "      border-right-color: var(--fill-color);\n",
              "      border-bottom-color: var(--fill-color);\n",
              "    }\n",
              "    90% {\n",
              "      border-color: transparent;\n",
              "      border-bottom-color: var(--fill-color);\n",
              "    }\n",
              "  }\n",
              "</style>\n",
              "\n",
              "  <script>\n",
              "    async function quickchart(key) {\n",
              "      const quickchartButtonEl =\n",
              "        document.querySelector('#' + key + ' button');\n",
              "      quickchartButtonEl.disabled = true;  // To prevent multiple clicks.\n",
              "      quickchartButtonEl.classList.add('colab-df-spinner');\n",
              "      try {\n",
              "        const charts = await google.colab.kernel.invokeFunction(\n",
              "            'suggestCharts', [key], {});\n",
              "      } catch (error) {\n",
              "        console.error('Error during call to suggestCharts:', error);\n",
              "      }\n",
              "      quickchartButtonEl.classList.remove('colab-df-spinner');\n",
              "      quickchartButtonEl.classList.add('colab-df-quickchart-complete');\n",
              "    }\n",
              "    (() => {\n",
              "      let quickchartButtonEl =\n",
              "        document.querySelector('#df-d873e569-40d4-455c-8eef-59fde87b0798 button');\n",
              "      quickchartButtonEl.style.display =\n",
              "        google.colab.kernel.accessAllowed ? 'block' : 'none';\n",
              "    })();\n",
              "  </script>\n",
              "</div>\n",
              "    </div>\n",
              "  </div>\n"
            ]
          },
          "metadata": {},
          "execution_count": 43
        }
      ],
      "source": [
        "df = pd.read_csv('./AMZN_2006-01-01_to_2018-01-01.csv')\n",
        "df.head()"
      ]
    },
    {
      "cell_type": "code",
      "execution_count": 44,
      "metadata": {
        "scrolled": true,
        "colab": {
          "base_uri": "https://localhost:8080/",
          "height": 206
        },
        "id": "7mfYZY2JMqwS",
        "outputId": "744fd28e-6a97-4121-afcd-cd65690f4023"
      },
      "outputs": [
        {
          "output_type": "execute_result",
          "data": {
            "text/plain": [
              "            Date     Open     High      Low    Close   Volume  Name\n",
              "3014  2017-12-22  1172.08  1174.62  1167.83  1168.36  1585054  AMZN\n",
              "3015  2017-12-26  1168.36  1178.32  1160.55  1176.76  2005187  AMZN\n",
              "3016  2017-12-27  1179.91  1187.29  1175.61  1182.26  1867208  AMZN\n",
              "3017  2017-12-28  1189.00  1190.10  1184.38  1186.10  1841676  AMZN\n",
              "3018  2017-12-29  1182.35  1184.00  1167.50  1169.47  2688391  AMZN"
            ],
            "text/html": [
              "\n",
              "  <div id=\"df-10363242-81ea-4b66-9b83-d32e3a75a846\" class=\"colab-df-container\">\n",
              "    <div>\n",
              "<style scoped>\n",
              "    .dataframe tbody tr th:only-of-type {\n",
              "        vertical-align: middle;\n",
              "    }\n",
              "\n",
              "    .dataframe tbody tr th {\n",
              "        vertical-align: top;\n",
              "    }\n",
              "\n",
              "    .dataframe thead th {\n",
              "        text-align: right;\n",
              "    }\n",
              "</style>\n",
              "<table border=\"1\" class=\"dataframe\">\n",
              "  <thead>\n",
              "    <tr style=\"text-align: right;\">\n",
              "      <th></th>\n",
              "      <th>Date</th>\n",
              "      <th>Open</th>\n",
              "      <th>High</th>\n",
              "      <th>Low</th>\n",
              "      <th>Close</th>\n",
              "      <th>Volume</th>\n",
              "      <th>Name</th>\n",
              "    </tr>\n",
              "  </thead>\n",
              "  <tbody>\n",
              "    <tr>\n",
              "      <th>3014</th>\n",
              "      <td>2017-12-22</td>\n",
              "      <td>1172.08</td>\n",
              "      <td>1174.62</td>\n",
              "      <td>1167.83</td>\n",
              "      <td>1168.36</td>\n",
              "      <td>1585054</td>\n",
              "      <td>AMZN</td>\n",
              "    </tr>\n",
              "    <tr>\n",
              "      <th>3015</th>\n",
              "      <td>2017-12-26</td>\n",
              "      <td>1168.36</td>\n",
              "      <td>1178.32</td>\n",
              "      <td>1160.55</td>\n",
              "      <td>1176.76</td>\n",
              "      <td>2005187</td>\n",
              "      <td>AMZN</td>\n",
              "    </tr>\n",
              "    <tr>\n",
              "      <th>3016</th>\n",
              "      <td>2017-12-27</td>\n",
              "      <td>1179.91</td>\n",
              "      <td>1187.29</td>\n",
              "      <td>1175.61</td>\n",
              "      <td>1182.26</td>\n",
              "      <td>1867208</td>\n",
              "      <td>AMZN</td>\n",
              "    </tr>\n",
              "    <tr>\n",
              "      <th>3017</th>\n",
              "      <td>2017-12-28</td>\n",
              "      <td>1189.00</td>\n",
              "      <td>1190.10</td>\n",
              "      <td>1184.38</td>\n",
              "      <td>1186.10</td>\n",
              "      <td>1841676</td>\n",
              "      <td>AMZN</td>\n",
              "    </tr>\n",
              "    <tr>\n",
              "      <th>3018</th>\n",
              "      <td>2017-12-29</td>\n",
              "      <td>1182.35</td>\n",
              "      <td>1184.00</td>\n",
              "      <td>1167.50</td>\n",
              "      <td>1169.47</td>\n",
              "      <td>2688391</td>\n",
              "      <td>AMZN</td>\n",
              "    </tr>\n",
              "  </tbody>\n",
              "</table>\n",
              "</div>\n",
              "    <div class=\"colab-df-buttons\">\n",
              "\n",
              "  <div class=\"colab-df-container\">\n",
              "    <button class=\"colab-df-convert\" onclick=\"convertToInteractive('df-10363242-81ea-4b66-9b83-d32e3a75a846')\"\n",
              "            title=\"Convert this dataframe to an interactive table.\"\n",
              "            style=\"display:none;\">\n",
              "\n",
              "  <svg xmlns=\"http://www.w3.org/2000/svg\" height=\"24px\" viewBox=\"0 -960 960 960\">\n",
              "    <path d=\"M120-120v-720h720v720H120Zm60-500h600v-160H180v160Zm220 220h160v-160H400v160Zm0 220h160v-160H400v160ZM180-400h160v-160H180v160Zm440 0h160v-160H620v160ZM180-180h160v-160H180v160Zm440 0h160v-160H620v160Z\"/>\n",
              "  </svg>\n",
              "    </button>\n",
              "\n",
              "  <style>\n",
              "    .colab-df-container {\n",
              "      display:flex;\n",
              "      gap: 12px;\n",
              "    }\n",
              "\n",
              "    .colab-df-convert {\n",
              "      background-color: #E8F0FE;\n",
              "      border: none;\n",
              "      border-radius: 50%;\n",
              "      cursor: pointer;\n",
              "      display: none;\n",
              "      fill: #1967D2;\n",
              "      height: 32px;\n",
              "      padding: 0 0 0 0;\n",
              "      width: 32px;\n",
              "    }\n",
              "\n",
              "    .colab-df-convert:hover {\n",
              "      background-color: #E2EBFA;\n",
              "      box-shadow: 0px 1px 2px rgba(60, 64, 67, 0.3), 0px 1px 3px 1px rgba(60, 64, 67, 0.15);\n",
              "      fill: #174EA6;\n",
              "    }\n",
              "\n",
              "    .colab-df-buttons div {\n",
              "      margin-bottom: 4px;\n",
              "    }\n",
              "\n",
              "    [theme=dark] .colab-df-convert {\n",
              "      background-color: #3B4455;\n",
              "      fill: #D2E3FC;\n",
              "    }\n",
              "\n",
              "    [theme=dark] .colab-df-convert:hover {\n",
              "      background-color: #434B5C;\n",
              "      box-shadow: 0px 1px 3px 1px rgba(0, 0, 0, 0.15);\n",
              "      filter: drop-shadow(0px 1px 2px rgba(0, 0, 0, 0.3));\n",
              "      fill: #FFFFFF;\n",
              "    }\n",
              "  </style>\n",
              "\n",
              "    <script>\n",
              "      const buttonEl =\n",
              "        document.querySelector('#df-10363242-81ea-4b66-9b83-d32e3a75a846 button.colab-df-convert');\n",
              "      buttonEl.style.display =\n",
              "        google.colab.kernel.accessAllowed ? 'block' : 'none';\n",
              "\n",
              "      async function convertToInteractive(key) {\n",
              "        const element = document.querySelector('#df-10363242-81ea-4b66-9b83-d32e3a75a846');\n",
              "        const dataTable =\n",
              "          await google.colab.kernel.invokeFunction('convertToInteractive',\n",
              "                                                    [key], {});\n",
              "        if (!dataTable) return;\n",
              "\n",
              "        const docLinkHtml = 'Like what you see? Visit the ' +\n",
              "          '<a target=\"_blank\" href=https://colab.research.google.com/notebooks/data_table.ipynb>data table notebook</a>'\n",
              "          + ' to learn more about interactive tables.';\n",
              "        element.innerHTML = '';\n",
              "        dataTable['output_type'] = 'display_data';\n",
              "        await google.colab.output.renderOutput(dataTable, element);\n",
              "        const docLink = document.createElement('div');\n",
              "        docLink.innerHTML = docLinkHtml;\n",
              "        element.appendChild(docLink);\n",
              "      }\n",
              "    </script>\n",
              "  </div>\n",
              "\n",
              "\n",
              "<div id=\"df-d8e02fd8-eef8-4186-b4a1-1bd8bbfe29e7\">\n",
              "  <button class=\"colab-df-quickchart\" onclick=\"quickchart('df-d8e02fd8-eef8-4186-b4a1-1bd8bbfe29e7')\"\n",
              "            title=\"Suggest charts\"\n",
              "            style=\"display:none;\">\n",
              "\n",
              "<svg xmlns=\"http://www.w3.org/2000/svg\" height=\"24px\"viewBox=\"0 0 24 24\"\n",
              "     width=\"24px\">\n",
              "    <g>\n",
              "        <path d=\"M19 3H5c-1.1 0-2 .9-2 2v14c0 1.1.9 2 2 2h14c1.1 0 2-.9 2-2V5c0-1.1-.9-2-2-2zM9 17H7v-7h2v7zm4 0h-2V7h2v10zm4 0h-2v-4h2v4z\"/>\n",
              "    </g>\n",
              "</svg>\n",
              "  </button>\n",
              "\n",
              "<style>\n",
              "  .colab-df-quickchart {\n",
              "      --bg-color: #E8F0FE;\n",
              "      --fill-color: #1967D2;\n",
              "      --hover-bg-color: #E2EBFA;\n",
              "      --hover-fill-color: #174EA6;\n",
              "      --disabled-fill-color: #AAA;\n",
              "      --disabled-bg-color: #DDD;\n",
              "  }\n",
              "\n",
              "  [theme=dark] .colab-df-quickchart {\n",
              "      --bg-color: #3B4455;\n",
              "      --fill-color: #D2E3FC;\n",
              "      --hover-bg-color: #434B5C;\n",
              "      --hover-fill-color: #FFFFFF;\n",
              "      --disabled-bg-color: #3B4455;\n",
              "      --disabled-fill-color: #666;\n",
              "  }\n",
              "\n",
              "  .colab-df-quickchart {\n",
              "    background-color: var(--bg-color);\n",
              "    border: none;\n",
              "    border-radius: 50%;\n",
              "    cursor: pointer;\n",
              "    display: none;\n",
              "    fill: var(--fill-color);\n",
              "    height: 32px;\n",
              "    padding: 0;\n",
              "    width: 32px;\n",
              "  }\n",
              "\n",
              "  .colab-df-quickchart:hover {\n",
              "    background-color: var(--hover-bg-color);\n",
              "    box-shadow: 0 1px 2px rgba(60, 64, 67, 0.3), 0 1px 3px 1px rgba(60, 64, 67, 0.15);\n",
              "    fill: var(--button-hover-fill-color);\n",
              "  }\n",
              "\n",
              "  .colab-df-quickchart-complete:disabled,\n",
              "  .colab-df-quickchart-complete:disabled:hover {\n",
              "    background-color: var(--disabled-bg-color);\n",
              "    fill: var(--disabled-fill-color);\n",
              "    box-shadow: none;\n",
              "  }\n",
              "\n",
              "  .colab-df-spinner {\n",
              "    border: 2px solid var(--fill-color);\n",
              "    border-color: transparent;\n",
              "    border-bottom-color: var(--fill-color);\n",
              "    animation:\n",
              "      spin 1s steps(1) infinite;\n",
              "  }\n",
              "\n",
              "  @keyframes spin {\n",
              "    0% {\n",
              "      border-color: transparent;\n",
              "      border-bottom-color: var(--fill-color);\n",
              "      border-left-color: var(--fill-color);\n",
              "    }\n",
              "    20% {\n",
              "      border-color: transparent;\n",
              "      border-left-color: var(--fill-color);\n",
              "      border-top-color: var(--fill-color);\n",
              "    }\n",
              "    30% {\n",
              "      border-color: transparent;\n",
              "      border-left-color: var(--fill-color);\n",
              "      border-top-color: var(--fill-color);\n",
              "      border-right-color: var(--fill-color);\n",
              "    }\n",
              "    40% {\n",
              "      border-color: transparent;\n",
              "      border-right-color: var(--fill-color);\n",
              "      border-top-color: var(--fill-color);\n",
              "    }\n",
              "    60% {\n",
              "      border-color: transparent;\n",
              "      border-right-color: var(--fill-color);\n",
              "    }\n",
              "    80% {\n",
              "      border-color: transparent;\n",
              "      border-right-color: var(--fill-color);\n",
              "      border-bottom-color: var(--fill-color);\n",
              "    }\n",
              "    90% {\n",
              "      border-color: transparent;\n",
              "      border-bottom-color: var(--fill-color);\n",
              "    }\n",
              "  }\n",
              "</style>\n",
              "\n",
              "  <script>\n",
              "    async function quickchart(key) {\n",
              "      const quickchartButtonEl =\n",
              "        document.querySelector('#' + key + ' button');\n",
              "      quickchartButtonEl.disabled = true;  // To prevent multiple clicks.\n",
              "      quickchartButtonEl.classList.add('colab-df-spinner');\n",
              "      try {\n",
              "        const charts = await google.colab.kernel.invokeFunction(\n",
              "            'suggestCharts', [key], {});\n",
              "      } catch (error) {\n",
              "        console.error('Error during call to suggestCharts:', error);\n",
              "      }\n",
              "      quickchartButtonEl.classList.remove('colab-df-spinner');\n",
              "      quickchartButtonEl.classList.add('colab-df-quickchart-complete');\n",
              "    }\n",
              "    (() => {\n",
              "      let quickchartButtonEl =\n",
              "        document.querySelector('#df-d8e02fd8-eef8-4186-b4a1-1bd8bbfe29e7 button');\n",
              "      quickchartButtonEl.style.display =\n",
              "        google.colab.kernel.accessAllowed ? 'block' : 'none';\n",
              "    })();\n",
              "  </script>\n",
              "</div>\n",
              "    </div>\n",
              "  </div>\n"
            ]
          },
          "metadata": {},
          "execution_count": 44
        }
      ],
      "source": [
        "df.tail()"
      ]
    },
    {
      "cell_type": "markdown",
      "metadata": {
        "id": "lnX9NQDkMqwS"
      },
      "source": [
        "## 繪圖"
      ]
    },
    {
      "cell_type": "code",
      "execution_count": 45,
      "metadata": {
        "scrolled": true,
        "colab": {
          "base_uri": "https://localhost:8080/",
          "height": 488
        },
        "id": "IoU0FuBfMqwS",
        "outputId": "ce6b0bbe-5ce3-413f-e524-30c120ac8b8c"
      },
      "outputs": [
        {
          "output_type": "display_data",
          "data": {
            "text/plain": [
              "<Figure size 640x480 with 1 Axes>"
            ],
            "image/png": "[encoded data removed]"
          },
          "metadata": {}
        }
      ],
      "source": [
        "df2 = df.set_index('Date')\n",
        "df2.Close.plot(legend=None)\n",
        "plt.xticks(rotation=30);"
      ]
    },
    {
      "cell_type": "code",
      "execution_count": 6,
      "metadata": {
        "colab": {
          "base_uri": "https://localhost:8080/"
        },
        "id": "htuGd06UMqwS",
        "outputId": "a3b612c5-4592-4902-9727-8b214cc0bd6c"
      },
      "outputs": [
        {
          "output_type": "execute_result",
          "data": {
            "text/plain": [
              "3019"
            ]
          },
          "metadata": {},
          "execution_count": 6
        }
      ],
      "source": [
        "len(df2)"
      ]
    },
    {
      "cell_type": "code",
      "execution_count": 64,
      "metadata": {
        "colab": {
          "base_uri": "https://localhost:8080/"
        },
        "id": "R6WE1LsMMqwT",
        "outputId": "13aaf748-40a4-4223-8b35-07bf2d9d3264"
      },
      "outputs": [
        {
          "output_type": "execute_result",
          "data": {
            "text/plain": [
              "((3019, 1), torch.Size([2020, 1]))"
            ]
          },
          "metadata": {},
          "execution_count": 64
        }
      ],
      "source": [
        "from sklearn.preprocessing import MinMaxScaler\n",
        "look_back = 1 # 以前N期資料為 X，當期資料為 Y\n",
        "\n",
        "# 函數：以前N期資料為 X，當前期資料為 Y\n",
        "def create_dataset(data1, look_back):\n",
        "    x, y = [], []\n",
        "    for i in range(len(data1)-look_back-1):\n",
        "        _x = data1[i:(i+look_back)]\n",
        "        _y = data1[i+look_back]\n",
        "        x.append(_x)\n",
        "        y.append(_y)\n",
        "\n",
        "    return torch.Tensor(np.array(x)).cuda(), torch.Tensor(np.array(y)).cuda()\n",
        "\n",
        "dataset = df2[['Close']].values.astype('float32')\n",
        "\n",
        "# X 常態化\n",
        "scaler = MinMaxScaler()\n",
        "dataset = scaler.fit_transform(dataset)\n",
        "\n",
        "# 資料分割\n",
        "train_size = int(len(dataset) * 0.67)\n",
        "test_size = len(dataset) - train_size\n",
        "train_data, test_data = dataset[0:train_size,:], dataset[train_size:len(dataset),:]\n",
        "\n",
        "trainX, trainY = create_dataset(train_data, look_back)\n",
        "testX, testY = create_dataset(test_data, look_back)\n",
        "dataset.shape, trainY.shape"
      ]
    },
    {
      "cell_type": "code",
      "execution_count": 48,
      "metadata": {
        "colab": {
          "base_uri": "https://localhost:8080/"
        },
        "id": "7NU506A3MqwT",
        "outputId": "1f86a3d5-1d7e-4fe6-e64e-55c144625097"
      },
      "outputs": [
        {
          "output_type": "execute_result",
          "data": {
            "text/plain": [
              "array([0.97746545], dtype=float32)"
            ]
          },
          "metadata": {},
          "execution_count": 48
        }
      ],
      "source": [
        "dataset[-1]"
      ]
    },
    {
      "cell_type": "code",
      "execution_count": 49,
      "metadata": {
        "scrolled": true,
        "colab": {
          "base_uri": "https://localhost:8080/"
        },
        "id": "awb3YcN6MqwT",
        "outputId": "539f27d5-7d72-4b71-cfd9-a9d42d18307c"
      },
      "outputs": [
        {
          "output_type": "execute_result",
          "data": {
            "text/plain": [
              "(torch.Size([2018, 3, 1]),\n",
              " torch.Size([2018, 1]),\n",
              " torch.Size([993, 3, 1]),\n",
              " torch.Size([993, 1]))"
            ]
          },
          "metadata": {},
          "execution_count": 49
        }
      ],
      "source": [
        "trainX.shape, trainY.shape, testX.shape, testY.shape"
      ]
    },
    {
      "cell_type": "code",
      "execution_count": 57,
      "metadata": {
        "scrolled": true,
        "colab": {
          "base_uri": "https://localhost:8080/"
        },
        "id": "Ps1hhqIqMqwU",
        "outputId": "c32d215a-dedc-4479-ebcb-6178dc033418"
      },
      "outputs": [
        {
          "output_type": "execute_result",
          "data": {
            "text/plain": [
              "tensor([[0.0184, 0.0181],\n",
              "        [0.0181, 0.0184],\n",
              "        [0.0184, 0.0186],\n",
              "        ...,\n",
              "        [0.3205, 0.3177],\n",
              "        [0.3177, 0.3120],\n",
              "        [0.3120, 0.3176]], device='cuda:0')"
            ]
          },
          "metadata": {},
          "execution_count": 57
        }
      ],
      "source": [
        "torch.cat((trainX.reshape(trainX.shape[0], trainX.shape[1]), trainY), axis=1)"
      ]
    },
    {
      "cell_type": "markdown",
      "metadata": {
        "id": "fnr5dslGMqwU"
      },
      "source": [
        "## 建立模型"
      ]
    },
    {
      "cell_type": "code",
      "execution_count": 65,
      "metadata": {
        "id": "om3vl32sMqwU"
      },
      "outputs": [],
      "source": [
        "class TimeSeriesModel(nn.Module):\n",
        "    def __init__(self, look_back, hidden_size=4, num_layers=1):\n",
        "        super().__init__()\n",
        "        self.hidden_size = hidden_size\n",
        "        self.num_layers = num_layers\n",
        "        self.rnn = nn.LSTM(1, self.hidden_size, num_layers=self.num_layers\n",
        "                           , batch_first=True)\n",
        "        self.fc = nn.Linear(self.hidden_size, 1)\n",
        "        self.init_weights()\n",
        "\n",
        "    def init_weights(self):\n",
        "        initrange = 0.5\n",
        "        self.fc.weight.data.uniform_(-initrange, initrange)\n",
        "        self.fc.bias.data.zero_()\n",
        "\n",
        "    def forward(self, x):\n",
        "        #print(x.shape)\n",
        "        # rnn_out, h_out = self.rnn(x)\n",
        "        h_0 = torch.zeros(self.num_layers, x.size(0), self.hidden_size).cuda()\n",
        "        c_0 = torch.zeros(self.num_layers, x.size(0), self.hidden_size).cuda()\n",
        "        out, (h_out, _) = self.rnn(x, (h_0, c_0))\n",
        "        #print(h_out.shape)\n",
        "\n",
        "        # 取最後一個輸出，並轉成二維\n",
        "        flatten_output = out[:, -1].view(-1, self.hidden_size)\n",
        "        return self.fc(flatten_output)\n",
        "\n",
        "model = TimeSeriesModel(look_back, hidden_size=4, num_layers=1).to(device)"
      ]
    },
    {
      "cell_type": "markdown",
      "metadata": {
        "id": "S3w12M3uMqwU"
      },
      "source": [
        "## 模型訓練"
      ]
    },
    {
      "cell_type": "code",
      "execution_count": 66,
      "metadata": {
        "scrolled": true,
        "colab": {
          "base_uri": "https://localhost:8080/"
        },
        "id": "rORJOisGMqwU",
        "outputId": "2ec096f9-ef4c-4630-f1da-1aa18c1779ab"
      },
      "outputs": [
        {
          "output_type": "stream",
          "name": "stdout",
          "text": [
            "torch.Size([2020, 1])\n",
            "Epoch: 0, loss: 0.02096\n",
            "Epoch: 100, loss: 0.00005\n",
            "Epoch: 200, loss: 0.00001\n",
            "Epoch: 300, loss: 0.00001\n",
            "Epoch: 400, loss: 0.00001\n",
            "Epoch: 500, loss: 0.00001\n",
            "Epoch: 600, loss: 0.00001\n",
            "Epoch: 700, loss: 0.00001\n",
            "Epoch: 800, loss: 0.00001\n",
            "Epoch: 900, loss: 0.00001\n",
            "Epoch: 1000, loss: 0.00001\n",
            "Epoch: 1100, loss: 0.00001\n",
            "Epoch: 1200, loss: 0.00001\n",
            "Epoch: 1300, loss: 0.00001\n",
            "Epoch: 1400, loss: 0.00001\n",
            "Epoch: 1500, loss: 0.00001\n",
            "Epoch: 1600, loss: 0.00001\n",
            "Epoch: 1700, loss: 0.00001\n",
            "Epoch: 1800, loss: 0.00001\n",
            "Epoch: 1900, loss: 0.00001\n"
          ]
        }
      ],
      "source": [
        "num_epochs = 2000\n",
        "learning_rate = 0.01\n",
        "\n",
        "def train(trainX, trainY):\n",
        "    criterion = torch.nn.MSELoss()  # MSE\n",
        "    optimizer = torch.optim.Adam(model.parameters(), lr=learning_rate)\n",
        "\n",
        "    for epoch in range(num_epochs):\n",
        "        optimizer.zero_grad()\n",
        "        outputs = model(trainX)\n",
        "        if epoch <= 0: print(outputs.shape)\n",
        "        loss = criterion(outputs, trainY)\n",
        "        loss.backward()\n",
        "        optimizer.step()\n",
        "        if epoch % 100 == 0:\n",
        "            print(f\"Epoch: {epoch}, loss: {loss.item():.5f}\")\n",
        "\n",
        "train(trainX, trainY)"
      ]
    },
    {
      "cell_type": "markdown",
      "metadata": {
        "id": "ZOJzFYR2MqwV"
      },
      "source": [
        "## 模型評估"
      ]
    },
    {
      "cell_type": "code",
      "execution_count": 67,
      "metadata": {
        "scrolled": true,
        "colab": {
          "base_uri": "https://localhost:8080/"
        },
        "id": "VuaWK_rFMqwV",
        "outputId": "cd1446d4-03a8-4a1e-8259-34f67ee4a647"
      },
      "outputs": [
        {
          "output_type": "execute_result",
          "data": {
            "text/plain": [
              "(2020, 1)"
            ]
          },
          "metadata": {},
          "execution_count": 67
        }
      ],
      "source": [
        "model.eval()\n",
        "trainPredict = model(trainX).detach().cpu().numpy()\n",
        "testPredict = model(testX).detach().cpu().numpy()\n",
        "trainPredict.shape"
      ]
    },
    {
      "cell_type": "code",
      "execution_count": 61,
      "metadata": {
        "colab": {
          "base_uri": "https://localhost:8080/"
        },
        "id": "oLCyof0bMqwV",
        "outputId": "43a86521-558d-4dd0-d521-5c4eee409707"
      },
      "outputs": [
        {
          "output_type": "execute_result",
          "data": {
            "text/plain": [
              "(torch.Size([2020, 1]), (2020, 1))"
            ]
          },
          "metadata": {},
          "execution_count": 61
        }
      ],
      "source": [
        "trainY.shape, trainPredict.shape"
      ]
    },
    {
      "cell_type": "code",
      "execution_count": 68,
      "metadata": {
        "colab": {
          "base_uri": "https://localhost:8080/"
        },
        "id": "JErRx-OtMqwV",
        "outputId": "d7f7d675-7d81-4c6f-b157-d8c872486444"
      },
      "outputs": [
        {
          "output_type": "stream",
          "name": "stdout",
          "text": [
            "(2020, 1) (2020, 1)\n",
            "Train RMSE: 3.50\n",
            "Test RMSE:  87.18\n"
          ]
        }
      ],
      "source": [
        "from sklearn.metrics import mean_squared_error\n",
        "import math\n",
        "\n",
        "# 還原常態化的訓練及測試資料\n",
        "trainPredict = scaler.inverse_transform(trainPredict)\n",
        "trainY_actual = scaler.inverse_transform(trainY.reshape(-1, 1).cpu())\n",
        "testPredict = scaler.inverse_transform(testPredict)\n",
        "testY_actual = scaler.inverse_transform(testY.reshape(-1, 1).cpu())\n",
        "print(trainY_actual.shape, trainPredict.shape)\n",
        "\n",
        "# 計算 RMSE\n",
        "trainScore = math.sqrt(mean_squared_error(trainY_actual, trainPredict.reshape(-1)))\n",
        "print(f'Train RMSE: {trainScore:.2f}')\n",
        "testScore = math.sqrt(mean_squared_error(testY_actual, testPredict.reshape(-1)))\n",
        "print(f'Test RMSE:  {testScore:.2f}')"
      ]
    },
    {
      "cell_type": "markdown",
      "metadata": {
        "id": "4I9blw0pMqwV"
      },
      "source": [
        "## 繪製實際資料和預測資料的圖表"
      ]
    },
    {
      "cell_type": "code",
      "execution_count": 69,
      "metadata": {
        "scrolled": false,
        "colab": {
          "base_uri": "https://localhost:8080/",
          "height": 522
        },
        "id": "ad0BKFQhMqwV",
        "outputId": "76541476-a11b-45d1-8e1f-045837499712"
      },
      "outputs": [
        {
          "output_type": "display_data",
          "data": {
            "text/plain": [
              "<Figure size 1200x600 with 1 Axes>"
            ],
            "image/png": "[encoded data removed]"
          },
          "metadata": {}
        }
      ],
      "source": [
        "# 訓練資料的 X/Y\n",
        "trainPredictPlot = np.empty_like(dataset)\n",
        "trainPredictPlot[:, :] = np.nan\n",
        "trainPredictPlot[1:trainPredict.shape[0]+1:, :] = trainPredict\n",
        "\n",
        "# 測試資料 X/Y\n",
        "testPredictPlot = np.empty_like(dataset)\n",
        "testPredictPlot[:, :] = np.nan\n",
        "testPredictPlot[-testPredict.shape[0]-1:-1, :] = testPredict\n",
        "\n",
        "# 繪圖\n",
        "plt.figure(figsize=(12,6))\n",
        "plt.plot(scaler.inverse_transform(dataset), label='Actual')\n",
        "plt.plot(trainPredictPlot, label='train predict')\n",
        "plt.plot(testPredictPlot, label='test predict')\n",
        "plt.legend()\n",
        "plt.show()"
      ]
    }
  ],
  "metadata": {
    "kernelspec": {
      "display_name": "Python 3",
      "name": "python3"
    },
    "language_info": {
      "codemirror_mode": {
        "name": "ipython",
        "version": 3
      },
      "file_extension": ".py",
      "mimetype": "text/x-python",
      "name": "python",
      "nbconvert_exporter": "python",
      "pygments_lexer": "ipython3",
      "version": "3.9.7"
    },
    "colab": {
      "provenance": [],
      "gpuType": "T4"
    },
    "accelerator": "GPU"
  },
  "nbformat": 4,
  "nbformat_minor": 0
}